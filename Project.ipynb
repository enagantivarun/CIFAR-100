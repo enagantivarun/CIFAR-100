{
 "cells": [
  {
   "cell_type": "code",
   "execution_count": 2,
   "metadata": {},
   "outputs": [
    {
     "name": "stderr",
     "output_type": "stream",
     "text": [
      "Using TensorFlow backend.\n"
     ]
    }
   ],
   "source": [
    "import numpy as np\n",
    "import pandas as pd\n",
    "from keras.datasets import cifar100\n",
    "from keras.models import Sequential\n",
    "from keras.layers import Dense, Flatten, Dropout\n",
    "from keras.constraints import maxnorm\n",
    "from keras.optimizers import Adam\n",
    "from keras.layers.convolutional import Conv2D, MaxPooling2D \n",
    "from keras.utils import np_utils\n",
    "from keras import backend as k\n",
    "k.set_image_dim_ordering(\"th\")\n"
   ]
  },
  {
   "cell_type": "code",
   "execution_count": 3,
   "metadata": {
    "collapsed": true
   },
   "outputs": [],
   "source": [
    "#Random seed \n",
    "seed=7\n",
    "np.random.seed(seed)"
   ]
  },
  {
   "cell_type": "code",
   "execution_count": 4,
   "metadata": {
    "collapsed": true
   },
   "outputs": [],
   "source": [
    "#loading the data\n",
    "(X_train,y_trian),(X_test,y_test) = cifar100.load_data(label_mode='fine')\n",
    "\n"
   ]
  },
  {
   "cell_type": "code",
   "execution_count": 5,
   "metadata": {
    "collapsed": true
   },
   "outputs": [],
   "source": [
    "#Normalize the inputs values of 0-255 to 0-1\n",
    "X_train=X_train.astype(\"float32\")\n",
    "X_test=X_test.astype(\"float32\")\n",
    "X_train=X_train/255.0\n",
    "X_test=X_test/255.0\n",
    "\n"
   ]
  },
  {
   "cell_type": "code",
   "execution_count": 6,
   "metadata": {
    "collapsed": true
   },
   "outputs": [],
   "source": [
    "#one hot encode outputs\n",
    "y_trian=np_utils.to_categorical(y_trian)\n",
    "y_test=np_utils.to_categorical(y_test)\n",
    "num_classes=y_test.shape[1]\n"
   ]
  },
  {
   "cell_type": "code",
   "execution_count": 20,
   "metadata": {
    "collapsed": true
   },
   "outputs": [],
   "source": [
    "#Create the model\n",
    "model=Sequential()\n",
    "model.add(Conv2D(32, (3,3), input_shape=(3,32,32),activation=\"relu\",padding='same'))\n",
    "model.add(Dropout(0.25))\n",
    "model.add(Conv2D(64,(3,3),activation='relu',padding='same'))\n",
    "model.add(MaxPooling2D(pool_size=(2,2)))\n",
    "model.add(Conv2D(128,(3,3),activation='relu',padding='same'))\n",
    "model.add(MaxPooling2D(pool_size=(2,2)))\n",
    "model.add(Dropout(0.25))\n",
    "model.add(Conv2D(128,(3,3),activation='relu',padding='same'))\n",
    "model.add(MaxPooling2D(pool_size=(2,2)))\n",
    "model.add(Flatten())\n",
    "model.add(Dense(1024, activation=\"relu\",kernel_constraint=maxnorm(3)))\n",
    "model.add(Dropout(0.25))\n",
    "model.add(Dense(1024, activation=\"relu\",kernel_constraint=maxnorm(3)))\n",
    "model.add(Dropout(0.25))\n",
    "model.add(Dense(num_classes, activation=\"softmax\"))"
   ]
  },
  {
   "cell_type": "code",
   "execution_count": 21,
   "metadata": {},
   "outputs": [
    {
     "name": "stdout",
     "output_type": "stream",
     "text": [
      "_________________________________________________________________\n",
      "Layer (type)                 Output Shape              Param #   \n",
      "=================================================================\n",
      "conv2d_12 (Conv2D)           (None, 32, 32, 32)        896       \n",
      "_________________________________________________________________\n",
      "dropout_15 (Dropout)         (None, 32, 32, 32)        0         \n",
      "_________________________________________________________________\n",
      "conv2d_13 (Conv2D)           (None, 64, 32, 32)        18496     \n",
      "_________________________________________________________________\n",
      "max_pooling2d_9 (MaxPooling2 (None, 64, 16, 16)        0         \n",
      "_________________________________________________________________\n",
      "conv2d_14 (Conv2D)           (None, 128, 16, 16)       73856     \n",
      "_________________________________________________________________\n",
      "max_pooling2d_10 (MaxPooling (None, 128, 8, 8)         0         \n",
      "_________________________________________________________________\n",
      "dropout_16 (Dropout)         (None, 128, 8, 8)         0         \n",
      "_________________________________________________________________\n",
      "conv2d_15 (Conv2D)           (None, 128, 8, 8)         147584    \n",
      "_________________________________________________________________\n",
      "max_pooling2d_11 (MaxPooling (None, 128, 4, 4)         0         \n",
      "_________________________________________________________________\n",
      "flatten_4 (Flatten)          (None, 2048)              0         \n",
      "_________________________________________________________________\n",
      "dense_10 (Dense)             (None, 1024)              2098176   \n",
      "_________________________________________________________________\n",
      "dropout_17 (Dropout)         (None, 1024)              0         \n",
      "_________________________________________________________________\n",
      "dense_11 (Dense)             (None, 1024)              1049600   \n",
      "_________________________________________________________________\n",
      "dropout_18 (Dropout)         (None, 1024)              0         \n",
      "_________________________________________________________________\n",
      "dense_12 (Dense)             (None, 100)               102500    \n",
      "=================================================================\n",
      "Total params: 3,491,108\n",
      "Trainable params: 3,491,108\n",
      "Non-trainable params: 0\n",
      "_________________________________________________________________\n",
      "None\n"
     ]
    }
   ],
   "source": [
    "#complie model\n",
    "\n",
    "epochs =50\n",
    "lrate=0.001\n",
    "decay=lrate/epochs\n",
    "adam=Adam(lr=lrate,decay=decay,beta_1=0.9,beta_2=0.99)\n",
    "model.compile(loss='categorical_crossentropy',optimizer=adam,metrics=['accuracy'])\n",
    "print(model.summary())"
   ]
  },
  {
   "cell_type": "code",
   "execution_count": 22,
   "metadata": {},
   "outputs": [
    {
     "name": "stdout",
     "output_type": "stream",
     "text": [
      "Train on 50000 samples, validate on 10000 samples\n",
      "Epoch 1/50\n",
      "50000/50000 [==============================] - 1234s - loss: 4.0776 - acc: 0.0705 - val_loss: 3.7747 - val_acc: 0.1115\n",
      "Epoch 2/50\n",
      "50000/50000 [==============================] - 1245s - loss: 3.3510 - acc: 0.1871 - val_loss: 3.1057 - val_acc: 0.2360\n",
      "Epoch 3/50\n",
      "50000/50000 [==============================] - 1246s - loss: 2.9365 - acc: 0.2671 - val_loss: 2.7660 - val_acc: 0.3077\n",
      "Epoch 4/50\n",
      "50000/50000 [==============================] - 1516s - loss: 2.6221 - acc: 0.3254 - val_loss: 2.5135 - val_acc: 0.3541\n",
      "Epoch 5/50\n",
      "50000/50000 [==============================] - 1776s - loss: 2.3778 - acc: 0.3773 - val_loss: 2.3751 - val_acc: 0.3860\n",
      "Epoch 6/50\n",
      "50000/50000 [==============================] - 1830s - loss: 2.1706 - acc: 0.4196 - val_loss: 2.3041 - val_acc: 0.3994\n",
      "Epoch 7/50\n",
      "50000/50000 [==============================] - 1666s - loss: 1.9979 - acc: 0.4570 - val_loss: 2.1826 - val_acc: 0.4278\n",
      "Epoch 8/50\n",
      "50000/50000 [==============================] - 1609s - loss: 1.8366 - acc: 0.4983 - val_loss: 2.0841 - val_acc: 0.4510\n",
      "Epoch 9/50\n",
      "50000/50000 [==============================] - 1206s - loss: 1.6957 - acc: 0.5270 - val_loss: 2.0508 - val_acc: 0.4662\n",
      "Epoch 10/50\n",
      "50000/50000 [==============================] - 1211s - loss: 1.5613 - acc: 0.5594 - val_loss: 2.0484 - val_acc: 0.4677\n",
      "Epoch 11/50\n",
      "50000/50000 [==============================] - 1212s - loss: 1.4439 - acc: 0.5864 - val_loss: 2.0224 - val_acc: 0.4800\n",
      "Epoch 12/50\n",
      "50000/50000 [==============================] - 1209s - loss: 1.3416 - acc: 0.6121 - val_loss: 2.0181 - val_acc: 0.4785\n",
      "Epoch 13/50\n",
      "50000/50000 [==============================] - 1237s - loss: 1.2406 - acc: 0.6363 - val_loss: 2.0791 - val_acc: 0.4766\n",
      "Epoch 14/50\n",
      "50000/50000 [==============================] - 1201s - loss: 1.1473 - acc: 0.6602 - val_loss: 2.0632 - val_acc: 0.4840\n",
      "Epoch 15/50\n",
      "50000/50000 [==============================] - 1201s - loss: 1.0765 - acc: 0.6794 - val_loss: 2.0937 - val_acc: 0.4798\n",
      "Epoch 16/50\n",
      "50000/50000 [==============================] - 1203s - loss: 0.9940 - acc: 0.7003 - val_loss: 2.0956 - val_acc: 0.4888\n",
      "Epoch 17/50\n",
      "50000/50000 [==============================] - 1200s - loss: 0.9370 - acc: 0.7126 - val_loss: 2.1864 - val_acc: 0.4756\n",
      "Epoch 18/50\n",
      "50000/50000 [==============================] - 1197s - loss: 0.8744 - acc: 0.7324 - val_loss: 2.1230 - val_acc: 0.4892\n",
      "Epoch 19/50\n",
      "50000/50000 [==============================] - 1205s - loss: 0.8303 - acc: 0.7465 - val_loss: 2.2353 - val_acc: 0.4881\n",
      "Epoch 20/50\n",
      "50000/50000 [==============================] - 1202s - loss: 0.7801 - acc: 0.7576 - val_loss: 2.2643 - val_acc: 0.4848\n",
      "Epoch 21/50\n",
      "50000/50000 [==============================] - 1201s - loss: 0.7353 - acc: 0.7719 - val_loss: 2.2999 - val_acc: 0.4877\n",
      "Epoch 22/50\n",
      "50000/50000 [==============================] - 1204s - loss: 0.6970 - acc: 0.7837 - val_loss: 2.3222 - val_acc: 0.4843\n",
      "Epoch 23/50\n",
      "50000/50000 [==============================] - 1200s - loss: 0.6690 - acc: 0.7918 - val_loss: 2.3565 - val_acc: 0.4808\n",
      "Epoch 24/50\n",
      "50000/50000 [==============================] - 1200s - loss: 0.6351 - acc: 0.8006 - val_loss: 2.4037 - val_acc: 0.4796\n",
      "Epoch 25/50\n",
      "50000/50000 [==============================] - 1201s - loss: 0.6163 - acc: 0.8068 - val_loss: 2.3955 - val_acc: 0.4873\n",
      "Epoch 26/50\n",
      "50000/50000 [==============================] - 1200s - loss: 0.5928 - acc: 0.8138 - val_loss: 2.4647 - val_acc: 0.4863\n",
      "Epoch 27/50\n",
      "50000/50000 [==============================] - 1200s - loss: 0.5711 - acc: 0.8212 - val_loss: 2.4628 - val_acc: 0.4804\n",
      "Epoch 28/50\n",
      "50000/50000 [==============================] - 1202s - loss: 0.5545 - acc: 0.8258 - val_loss: 2.4469 - val_acc: 0.4915\n",
      "Epoch 29/50\n",
      "50000/50000 [==============================] - 1200s - loss: 0.5252 - acc: 0.8361 - val_loss: 2.4946 - val_acc: 0.4864\n",
      "Epoch 30/50\n",
      "50000/50000 [==============================] - 1201s - loss: 0.5180 - acc: 0.8376 - val_loss: 2.5382 - val_acc: 0.4910\n",
      "Epoch 31/50\n",
      "50000/50000 [==============================] - 1232s - loss: 0.5051 - acc: 0.8416 - val_loss: 2.5478 - val_acc: 0.4877\n",
      "Epoch 32/50\n",
      "50000/50000 [==============================] - 1421s - loss: 0.4866 - acc: 0.8473 - val_loss: 2.5103 - val_acc: 0.4886\n",
      "Epoch 33/50\n",
      "50000/50000 [==============================] - 1374s - loss: 0.4665 - acc: 0.8533 - val_loss: 2.4768 - val_acc: 0.4826\n",
      "Epoch 34/50\n",
      "50000/50000 [==============================] - 1438s - loss: 0.4597 - acc: 0.8558 - val_loss: 2.5586 - val_acc: 0.4848\n",
      "Epoch 35/50\n",
      "50000/50000 [==============================] - 1393s - loss: 0.4545 - acc: 0.8579 - val_loss: 2.5440 - val_acc: 0.4874\n",
      "Epoch 36/50\n",
      "50000/50000 [==============================] - 1312s - loss: 0.4453 - acc: 0.8596 - val_loss: 2.5454 - val_acc: 0.4872\n",
      "Epoch 37/50\n",
      "50000/50000 [==============================] - 1305s - loss: 0.4284 - acc: 0.8652 - val_loss: 2.5230 - val_acc: 0.4936\n",
      "Epoch 38/50\n",
      "50000/50000 [==============================] - 1350s - loss: 0.4254 - acc: 0.8662 - val_loss: 2.7349 - val_acc: 0.4843\n",
      "Epoch 39/50\n",
      "50000/50000 [==============================] - 1237s - loss: 0.4092 - acc: 0.8726 - val_loss: 2.5464 - val_acc: 0.4910\n",
      "Epoch 40/50\n",
      "50000/50000 [==============================] - 1392s - loss: 0.3975 - acc: 0.8760 - val_loss: 2.5846 - val_acc: 0.4877\n",
      "Epoch 41/50\n",
      "50000/50000 [==============================] - 1328s - loss: 0.3915 - acc: 0.8785 - val_loss: 2.6091 - val_acc: 0.4867\n",
      "Epoch 42/50\n",
      "50000/50000 [==============================] - 1483s - loss: 0.3836 - acc: 0.8805 - val_loss: 2.6211 - val_acc: 0.4902\n",
      "Epoch 43/50\n",
      "50000/50000 [==============================] - 1360s - loss: 0.3868 - acc: 0.8806 - val_loss: 2.6880 - val_acc: 0.4952\n",
      "Epoch 44/50\n",
      "50000/50000 [==============================] - 1252s - loss: 0.3790 - acc: 0.8814 - val_loss: 2.6203 - val_acc: 0.4900\n",
      "Epoch 45/50\n",
      "50000/50000 [==============================] - 1247s - loss: 0.3648 - acc: 0.8858 - val_loss: 2.6458 - val_acc: 0.4869\n",
      "Epoch 46/50\n",
      "50000/50000 [==============================] - 1249s - loss: 0.3587 - acc: 0.8885 - val_loss: 2.6268 - val_acc: 0.4945\n",
      "Epoch 47/50\n",
      "50000/50000 [==============================] - 1268s - loss: 0.3544 - acc: 0.8887 - val_loss: 2.6547 - val_acc: 0.4891\n",
      "Epoch 48/50\n",
      "50000/50000 [==============================] - 1334s - loss: 0.3404 - acc: 0.8942 - val_loss: 2.7394 - val_acc: 0.4855\n",
      "Epoch 49/50\n",
      "50000/50000 [==============================] - 1353s - loss: 0.3503 - acc: 0.8922 - val_loss: 2.6135 - val_acc: 0.4857\n",
      "Epoch 50/50\n",
      "50000/50000 [==============================] - 1334s - loss: 0.3406 - acc: 0.8942 - val_loss: 2.7459 - val_acc: 0.4820\n",
      "Accuracy: 48.20%\n"
     ]
    }
   ],
   "source": [
    "np.random.seed(seed)\n",
    "model.fit(X_train,y_trian, validation_data=(X_test,y_test),epochs=epochs, batch_size=128)\n",
    "#Final evalution\n",
    "scores=model.evaluate(X_test,y_test,verbose=0)\n",
    "print(\"Accuracy: %.2f%%\" % (scores[1]*100))"
   ]
  },
  {
   "cell_type": "code",
   "execution_count": null,
   "metadata": {
    "collapsed": true
   },
   "outputs": [],
   "source": []
  }
 ],
 "metadata": {
  "kernelspec": {
   "display_name": "Python 3",
   "language": "python",
   "name": "python3"
  },
  "language_info": {
   "codemirror_mode": {
    "name": "ipython",
    "version": 3
   },
   "file_extension": ".py",
   "mimetype": "text/x-python",
   "name": "python",
   "nbconvert_exporter": "python",
   "pygments_lexer": "ipython3",
   "version": "3.6.3"
  }
 },
 "nbformat": 4,
 "nbformat_minor": 2
}
